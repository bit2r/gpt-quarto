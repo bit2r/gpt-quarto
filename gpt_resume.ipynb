{
  "cells": [
    {
      "cell_type": "raw",
      "metadata": {},
      "source": [
        "---\n",
        "editor_options: \n",
        "  chunk_output_type: console\n",
        "editor: \n",
        "  markdown: \n",
        "    wrap: 72\n",
        "---"
      ],
      "id": "f9538f5d"
    },
    {
      "cell_type": "markdown",
      "metadata": {},
      "source": [
        "# 이력서\n",
        "\n",
        "쿼토 이전에 R마크다운을 사용하여 이력서를 비롯한 다양한 문서가 제작되었다.\n",
        "당연히 쿼토에서도 R마크다운으로 작성된 다양한 문서를 재현할 수 있다. \n",
        "챗GPT로 이력서를 제작하는 방법을 살펴보자.\n",
        "국문 이력서와 다소 차이가 있지만 영문 이력서를 기본으로 한글을 넣어 PDF 이력서를 \n",
        "제작하는 방법을 살펴보자. 이 지점에서 챗GPT 생성형 AI가 빠른 시간내에 \n",
        "이력서를 제작하는데 큰 도움이 된다. \n",
        "\n",
        "이력서를 제작하는 방식은 크게 보면 두가지로 나눠진다. 하나는 이력서에 담기는\n",
        "당사자의 이력 콘텐츠가 있고 다른 하나는 이력 콘텐츠를 미려한 형식으로 PDF 파일에\n",
        "담아내는 것이다. 이력서에 담기는 내용은 주로 당사자의 경력, 학력, 자격증, 수상경력,\n",
        "논문 등을 들 수 있다. 이러한 내용을 적절한 형식으로 PDF 파일에 담아내기 위해서는\n",
        "일종의 템플릿이 필요한데 쿼토로 개발되어 공개된 몇가지 템플릿을 쉽게 찾을 수 있다.\n",
        "\n",
        "## 쿼토 확장기능\n",
        "\n",
        "[`Quarto-cv`](https://github.com/mps9506/quarto-cv)는 쿼토 확장기능(extension)으로\n",
        "별도 이력서 문서로 작성할 수도 있고 작성 중인 쿼토 문서 중 하나의 페이지로 이력서를 \n",
        "추가할 수도 있다. 먼저, 이력서 문서를 작성하기 위해서 쿼토 확장기능을 설치한다.\n",
        "\n",
        "\n",
        "```{sh}\n",
        "#| eval: false\n",
        "quarto install extension mps9506/quarto-cv@v1.0.3\n",
        "```\n",
        "\n",
        "\n",
        "::::: {.columns}\n",
        "\n",
        "::: {.column width=\"47.5%\"}\n",
        "![쿼토 이력서 소스코드](images/quarto_resume_code.jpg){#fig-quarto-resume-code}\n",
        ":::\n",
        "\n",
        "::: {.column width=\"5%\"}\n",
        ":::\n",
        "\n",
        "::: {.column width=\"47.5%\"}\n",
        "\n",
        "{{< pdf gpt_template.pdf >}}\n",
        "\n",
        "\n",
        ":::\n",
        ":::::\n"
      ],
      "id": "4bd8c0e6"
    }
  ],
  "metadata": {
    "kernelspec": {
      "name": "python3",
      "language": "python",
      "display_name": "Python 3 (ipykernel)"
    }
  },
  "nbformat": 4,
  "nbformat_minor": 5
}